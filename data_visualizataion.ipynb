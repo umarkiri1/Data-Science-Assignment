{
 "cells": [
  {
   "cell_type": "markdown",
   "metadata": {},
   "source": [
    "### Visualizing Quantities"
   ]
  },
  {
   "cell_type": "code",
   "execution_count": null,
   "metadata": {},
   "outputs": [],
   "source": [
    "# Import libraries\n",
    "import pandas as pd \n",
    "import matplotlib.pyplot as plt\n",
    "import seaborn as sns"
   ]
  },
  {
   "cell_type": "code",
   "execution_count": null,
   "metadata": {},
   "outputs": [],
   "source": [
    "# Read the data and display the first few rows\n",
    "birds = pd.read_csv(\"../data/birds.csv\")\n",
    "birds.head()"
   ]
  },
  {
   "cell_type": "code",
   "execution_count": null,
   "metadata": {},
   "outputs": [],
   "source": [
    "# Check the dimension of the dataset\n",
    "birds.shape"
   ]
  },
  {
   "cell_type": "code",
   "execution_count": null,
   "metadata": {},
   "outputs": [],
   "source": [
    "# Show more information about the dataset\n",
    "birds.info()"
   ]
  },
  {
   "cell_type": "code",
   "execution_count": null,
   "metadata": {},
   "outputs": [],
   "source": [
    "birds.Name.nunique()"
   ]
  },
  {
   "cell_type": "code",
   "execution_count": null,
   "metadata": {},
   "outputs": [],
   "source": [
    "# Visualize the maxwingspan\n",
    "plt.plot(birds[\"Name\"], birds[\"MaxWingspan\"])\n",
    "plt.title(\"Maximum Wings Span\")\n",
    "plt.xticks(rotation=45)\n",
    "plt.xlabel(\"Bird names\")\n",
    "plt.ylabel(\"Wingspan [cm]\")\n",
    "plt.show();"
   ]
  },
  {
   "cell_type": "code",
   "execution_count": null,
   "metadata": {},
   "outputs": [],
   "source": [
    "plt.title(\"Maximum Wingspan in Centimeters\")\n",
    "plt.ylabel(\"Wingspan [cm]\")\n",
    "plt.xlabel(\"Birds\")\n",
    "plt.tick_params(bottom=False, labelbottom=False)\n",
    "\n",
    "for i in range (len(birds)) :\n",
    "    x = birds[\"Name\"][i]\n",
    "    y = birds[\"MaxWingspan\"][i]\n",
    "    plt.plot(x, y, 'bo')\n",
    "    if birds[\"MaxWingspan\"][i] > 500:\n",
    "        plt.text(x, y, birds[\"Name\"][i], fontsize=12)\n",
    "\n",
    "plt.show()"
   ]
  },
  {
   "cell_type": "code",
   "execution_count": null,
   "metadata": {},
   "outputs": [],
   "source": [
    "plt.title(\"Maximum Wingspan in Centimeters\")\n",
    "plt.ylabel(\"Wingspan [cm]\")\n",
    "plt.xlabel(\"Birds\")\n",
    "plt.tick_params(bottom=False, labelbottom=False)\n",
    "\n",
    "for i in range(len(birds)):\n",
    "    x = birds[\"Name\"][i]\n",
    "    y = birds[\"MaxWingspan\"][i]\n",
    "    if birds[\"Name\"][i] not in ['Bald eagle', 'Prairie falcon']:\n",
    "        plt.plot(x, y, 'bo')"
   ]
  },
  {
   "cell_type": "markdown",
   "metadata": {},
   "source": [
    "#### Explore bar charts"
   ]
  },
  {
   "cell_type": "code",
   "execution_count": null,
   "metadata": {},
   "outputs": [],
   "source": [
    "birds.plot(x='Category',\n",
    "           kind='bar',stacked=True,\n",
    "           title='Birds of Minnesota');"
   ]
  },
  {
   "cell_type": "code",
   "execution_count": null,
   "metadata": {},
   "outputs": [],
   "source": [
    "category_count = birds.value_counts(birds['Category'].values, sort=True)\n",
    "plt.rcParams['figure.figsize'] = [6, 12]\n",
    "category_count.plot.barh()"
   ]
  },
  {
   "cell_type": "code",
   "execution_count": null,
   "metadata": {},
   "outputs": [],
   "source": [
    "conversation_status_count = birds.value_counts(birds['ConservationStatus'].values,sort=True)\n",
    "plt.rcParams['figure.figsize'] = [6,12]\n",
    "conversation_status_count.plot.bar()"
   ]
  },
  {
   "cell_type": "code",
   "execution_count": null,
   "metadata": {},
   "outputs": [],
   "source": [
    "birds.value_counts(birds['ConservationStatus'])"
   ]
  },
  {
   "cell_type": "code",
   "execution_count": null,
   "metadata": {},
   "outputs": [],
   "source": [
    "maxlength = birds['MaxLength']\n",
    "plt.barh(y=birds['Category'], width=maxlength)\n",
    "plt.rcParams['figure.figsize'] = [6, 12]\n",
    "plt.show()"
   ]
  },
  {
   "cell_type": "code",
   "execution_count": null,
   "metadata": {},
   "outputs": [],
   "source": [
    "minLength = birds['MinLength']\n",
    "maxLength = birds['MaxLength']\n",
    "category = birds['Category']\n",
    "\n",
    "plt.barh(category, maxLength)\n",
    "plt.barh(category, minLength)\n",
    "\n",
    "plt.show()"
   ]
  }
 ],
 "metadata": {
  "kernelspec": {
   "display_name": "datascience",
   "language": "python",
   "name": "python3"
  },
  "language_info": {
   "name": "python",
   "version": "3.12.0"
  }
 },
 "nbformat": 4,
 "nbformat_minor": 2
}
